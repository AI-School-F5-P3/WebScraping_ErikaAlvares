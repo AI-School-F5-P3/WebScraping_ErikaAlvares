{
  "nbformat": 4,
  "nbformat_minor": 0,
  "metadata": {
    "colab": {
      "provenance": [],
      "authorship_tag": "ABX9TyNzcPKZLSTIRv5dQSmiC1Pt",
      "include_colab_link": true
    },
    "kernelspec": {
      "name": "python3",
      "display_name": "Python 3"
    },
    "language_info": {
      "name": "python"
    }
  },
  "cells": [
    {
      "cell_type": "markdown",
      "metadata": {
        "id": "view-in-github",
        "colab_type": "text"
      },
      "source": [
        "<a href=\"https://colab.research.google.com/github/ea-analisisdatos/WebScraping_ErikaAlvares/blob/main/web_scraping_quotes.ipynb\" target=\"_parent\"><img src=\"https://colab.research.google.com/assets/colab-badge.svg\" alt=\"Open In Colab\"/></a>"
      ]
    },
    {
      "cell_type": "markdown",
      "source": [
        "# **Proyecto Web Scraping Quotes**\n",
        "\n",
        "## **Descripción**\n",
        "\n",
        "Este proyecto realiza web scraping en la web [https://quotes.toscrape.com/](https://quotes.toscrape.com/), extrayendo **frases**, **autores**, **tags** y la información de la **página \"about\" de cada autor**. Los datos son almacenados en una base de datos y se proporciona una interfaz para visualizar los resultados.\n",
        "\n",
        "## **Tecnologías Utilizadas**\n",
        "\n",
        "- **Lenguaje**: Python\n",
        "- **Librerías de Web Scraping**: BeautifulSoup\n",
        "- **Base de Datos**: SQLAlchemy con MySQL/PostgreSQL o MongoDB\n",
        "- **Despliegue**: Streamlit\n",
        "- **Testing**: Pytest\n",
        "- **Logs**: Logging de Python\n",
        "- **Contenedores**: Docker\n",
        "\n",
        "## **Estructura del Proyecto**\n",
        "\n",
        "- `scraper/`: Contiene el código del scraper.\n",
        "- `database/`: Configuración y scripts para la base de datos.\n",
        "- `tests/`: Tests unitarios con Pytest.\n",
        "- `logs/`: Archivos de logs para la trazabilidad.\n",
        "- `Dockerfile`: Configuración para dockerizar el proyecto.\n",
        "- `app.py`: Script principal para ejecutar el scraper y la interfaz de Streamlit.\n",
        "\n",
        "## **Instalación y Uso**\n",
        "\n",
        "### **- Prerrequisitos**\n",
        "\n",
        "- Python 3.x\n",
        "- Virtualenv\n",
        "- Docker (opcional)\n",
        "\n",
        "### **- Instalación**\n",
        "\n",
        "1. Clonar el repositorio:\n",
        "   ```bash\n",
        "   git https://github.com/AI-School-F5-P3/WebScraping_ErikaAlvares.git\n",
        "   cd WebScraping_ErikaAlvares\n"
      ],
      "metadata": {
        "id": "i-v94ymVJ9mB"
      }
    },
    {
      "cell_type": "code",
      "execution_count": null,
      "metadata": {
        "id": "ogF6lqtDImdt"
      },
      "outputs": [],
      "source": []
    }
  ]
}